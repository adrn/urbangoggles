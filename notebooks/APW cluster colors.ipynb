{
 "cells": [
  {
   "cell_type": "code",
   "execution_count": null,
   "metadata": {
    "collapsed": false
   },
   "outputs": [],
   "source": [
    "import numpy as np\n",
    "import matplotlib.pyplot as plt\n",
    "plt.style.use('apw-notebook')\n",
    "%matplotlib inline\n",
    "\n",
    "import skimage.data as sd\n",
    "import skimage.color as color\n",
    "import skimage.transform as st\n",
    "from skimage.io import imread\n",
    "\n",
    "from sklearn.utils import shuffle\n",
    "from sklearn.cluster import KMeans\n",
    "from sklearn.mixture import GMM\n",
    "from mpl_toolkits.mplot3d import Axes3D"
   ]
  },
  {
   "cell_type": "code",
   "execution_count": null,
   "metadata": {
    "collapsed": true
   },
   "outputs": [],
   "source": [
    "image_filename = \"../images/San Francisco demo.png\""
   ]
  },
  {
   "cell_type": "code",
   "execution_count": null,
   "metadata": {
    "collapsed": false
   },
   "outputs": [],
   "source": [
    "rgb = np.array(imread(image_filename)[...,:3], dtype=np.float64) / 255\n",
    "rgb.min(), rgb.max()\n",
    "\n",
    "rgb = st.rescale(rgb, 0.1)"
   ]
  },
  {
   "cell_type": "code",
   "execution_count": null,
   "metadata": {
    "collapsed": false
   },
   "outputs": [],
   "source": [
    "# Load Image and transform to a 2D numpy array.\n",
    "w, h, d = original_shape = tuple(rgb.shape)\n",
    "assert d == 3\n",
    "rgb_data = np.reshape(rgb, (w * h, d))"
   ]
  },
  {
   "cell_type": "code",
   "execution_count": null,
   "metadata": {
    "collapsed": false
   },
   "outputs": [],
   "source": [
    "plt.figure(figsize=(12,10))\n",
    "plt.imshow(rgb)"
   ]
  },
  {
   "cell_type": "code",
   "execution_count": null,
   "metadata": {
    "collapsed": false
   },
   "outputs": [],
   "source": [
    "hsv_data = color.rgb2hsv(rgb)\n",
    "hsv = hsv_data.reshape(-1, 3).T"
   ]
  },
  {
   "cell_type": "code",
   "execution_count": null,
   "metadata": {
    "collapsed": false
   },
   "outputs": [],
   "source": [
    "plt.figure(figsize=(12,8))\n",
    "plt.plot(hsv[0], hsv[1], linestyle='none', alpha=1., marker=',');\n",
    "\n",
    "plt.xlabel('Hue')\n",
    "plt.ylabel('Saturation')"
   ]
  },
  {
   "cell_type": "code",
   "execution_count": null,
   "metadata": {
    "collapsed": false
   },
   "outputs": [],
   "source": [
    "phi = 2*np.pi*hsv[0]\n",
    "x = hsv[1]*np.cos(phi)\n",
    "y = hsv[1]*np.sin(phi)\n",
    "z = hsv[2]\n",
    "\n",
    "# x = rgb_data[...,0].ravel()\n",
    "# y = rgb_data[...,1].ravel()\n",
    "# z = rgb_data[...,2].ravel()"
   ]
  },
  {
   "cell_type": "code",
   "execution_count": null,
   "metadata": {
    "collapsed": false
   },
   "outputs": [],
   "source": [
    "plt.figure(figsize=(8,8))\n",
    "\n",
    "ax = plt.subplot(1,1,1,projection='3d')\n",
    "plt.plot(x, y, z, linestyle='none', alpha=0.9, marker=',');\n",
    "\n",
    "ax.set_xlabel(r'$S\\,\\cos (2\\pi H)$')\n",
    "ax.set_ylabel(r'$S\\,\\sin (2\\pi H)$')\n",
    "ax.set_zlabel(r'$V$')"
   ]
  },
  {
   "cell_type": "code",
   "execution_count": null,
   "metadata": {
    "collapsed": false
   },
   "outputs": [],
   "source": [
    "X = np.vstack((x,y,z)).T\n",
    "subset = shuffle(X)\n",
    "\n",
    "clf = KMeans(n_clusters=32)\n",
    "clf.fit(subset)\n",
    "centroids = clf.cluster_centers_\n",
    "\n",
    "# clf = GMM(n_components=16, )\n",
    "# clf.fit(subset)\n",
    "# centroids = clf.means_\n",
    "# centroids = centroids[np.argsort(clf.weights_)]"
   ]
  },
  {
   "cell_type": "code",
   "execution_count": null,
   "metadata": {
    "collapsed": false
   },
   "outputs": [],
   "source": [
    "plt.figure(figsize=(12,12))\n",
    "ax = plt.subplot(1,1,1,projection='3d')\n",
    "\n",
    "ax.plot(subset[:,0], subset[:,1], subset[:,2], \n",
    "        linestyle='none', alpha=0.9, marker=',');\n",
    "\n",
    "ax.scatter(centroids[:,0], centroids[:,1], centroids[:,2],\n",
    "           marker='x', s=75, linewidths=3,\n",
    "           color='r', zorder=10)\n",
    "\n",
    "ax.set_xlabel(r'$S\\,\\cos (2\\pi H)$')\n",
    "ax.set_ylabel(r'$S\\,\\sin (2\\pi H)$')\n",
    "ax.set_zlabel(r'$V$')"
   ]
  },
  {
   "cell_type": "code",
   "execution_count": null,
   "metadata": {
    "collapsed": false
   },
   "outputs": [],
   "source": [
    "rgb_clusters = color.hsv2rgb(centroids[None])[0]\n",
    "# rgb_clusters = centroids"
   ]
  },
  {
   "cell_type": "code",
   "execution_count": null,
   "metadata": {
    "collapsed": false
   },
   "outputs": [],
   "source": [
    "plt.figure(figsize=(12,10))\n",
    "plt.imshow(rgb)"
   ]
  },
  {
   "cell_type": "code",
   "execution_count": null,
   "metadata": {
    "collapsed": false
   },
   "outputs": [],
   "source": [
    "_n = int(np.sqrt(len(centroids)))\n",
    "\n",
    "fig,ax = plt.subplots(1,1,figsize=(16,1))\n",
    "ax.imshow(rgb_clusters.reshape(1,len(centroids),3), interpolation='nearest')\n",
    "ax.xaxis.set_visible(False)\n",
    "ax.yaxis.set_visible(False)"
   ]
  },
  {
   "cell_type": "code",
   "execution_count": null,
   "metadata": {
    "collapsed": true
   },
   "outputs": [],
   "source": []
  }
 ],
 "metadata": {
  "anaconda-cloud": {},
  "kernelspec": {
   "display_name": "Python [conda env:three]",
   "language": "python",
   "name": "conda-env-three-py"
  },
  "language_info": {
   "codemirror_mode": {
    "name": "ipython",
    "version": 3
   },
   "file_extension": ".py",
   "mimetype": "text/x-python",
   "name": "python",
   "nbconvert_exporter": "python",
   "pygments_lexer": "ipython3",
   "version": "3.5.2"
  }
 },
 "nbformat": 4,
 "nbformat_minor": 1
}